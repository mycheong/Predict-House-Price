{
 "cells": [
  {
   "cell_type": "markdown",
   "metadata": {},
   "source": [
    "# Predict housing prices \n",
    "\n",
    "In this notebook, we are going to train a Random Forest model for predicting the housing prices using the dataset from the [Housing Prices Competition for Kaggle Learn Users](https://www.kaggle.com/c/home-data-for-ml-course).\n",
    "\n",
    "We will first do some basic processing of the data, e.g., handling missing values and encoding of categorical variables. Here we try label encoding, target encoding and catboost encoding. We will implement One-Hot encoding in another notebook. \n",
    "\n",
    "We start by training a baseline model with numerical variables only. Then add encoded categorical variables and drop some variables (manually select by intuition features that are not important) in order to improve the model. \n",
    "\n",
    "From the several sets of features we manually select from the step above, we choose the set that gives the best score. Then perform hyperparameter tuning. From the tuned model, use the feature_importance attribute to select important features. \n"
   ]
  },
  {
   "cell_type": "markdown",
   "metadata": {},
   "source": [
    "# Training and test sets\n",
    "\n",
    "1. Read in the training and test datasets.\n",
    "2. Check if there are missing values or NaN in the target column. If so, remove those rows.\n",
    "3. Separate target column from training set \n",
    "4. Split training data into training and validation set.\n"
   ]
  },
  {
   "cell_type": "code",
   "execution_count": 1,
   "metadata": {},
   "outputs": [
    {
     "name": "stdout",
     "output_type": "stream",
     "text": [
      "No missing data in target column.\n"
     ]
    }
   ],
   "source": [
    "import pandas as pd\n",
    "from sklearn.model_selection import train_test_split\n",
    "\n",
    "# Read the data\n",
    "\n",
    "X_full = pd.read_csv('C:/Users/meiye/Projects/HousePrice/train.csv', index_col='Id')\n",
    "X_test_full = pd.read_csv('C:/Users/meiye/Projects/HousePrice/test.csv', index_col='Id')\n",
    "\n",
    "\n",
    "# check if any missing in target column (SalePrice). If so remove rows with missing target\n",
    "\n",
    "if X_full.SalePrice.isnull().sum()>0:\n",
    "    print('There are missing data in target column. Consider removing rows with missing target?')\n",
    "else:\n",
    "    print('No missing data in target column.')\n",
    "\n",
    "\n",
    "# Separate target column from input data and split data to train and validation sets\n",
    "\n",
    "y = X_full.SalePrice     # take target column out as y\n",
    "X_full.drop('SalePrice', axis=1, inplace=True)  # remove target from \n",
    "\n",
    "# Split training data into training and validation set\n",
    "\n",
    "X_train, X_valid, y_train, y_valid = train_test_split(X_full, y, train_size=0.8, test_size=0.2, random_state=0)\n"
   ]
  },
  {
   "cell_type": "markdown",
   "metadata": {},
   "source": [
    "## Check the size of training data and test data"
   ]
  },
  {
   "cell_type": "code",
   "execution_count": 184,
   "metadata": {},
   "outputs": [
    {
     "name": "stdout",
     "output_type": "stream",
     "text": [
      "Shape of data set. \n",
      "\n",
      "Original dataset : (1460, 79) \n",
      "X_train : (1168, 79) \n",
      "X_valid : (292, 79)\n",
      "\n",
      "\n",
      "Shape of test set:  (1459, 79)\n"
     ]
    }
   ],
   "source": [
    "print('Shape of data set.', '\\n\\nOriginal dataset :', X_full.shape, '\\nX_train :', X_train.shape, '\\nX_valid :', X_valid.shape)\n",
    "\n",
    "print('\\n\\nShape of test set: ', X_test_full.shape )"
   ]
  },
  {
   "cell_type": "markdown",
   "metadata": {},
   "source": [
    "# Missing values, numerical and categorical variables\n",
    "\n",
    "In this part, we look at which columns have missing values and the amount and type of variables (numerical or categorical)."
   ]
  },
  {
   "cell_type": "code",
   "execution_count": 210,
   "metadata": {},
   "outputs": [
    {
     "name": "stdout",
     "output_type": "stream",
     "text": [
      "LotFrontage      212\n",
      "Alley           1097\n",
      "MasVnrType         6\n",
      "MasVnrArea         6\n",
      "BsmtQual          28\n",
      "BsmtCond          28\n",
      "BsmtExposure      28\n",
      "BsmtFinType1      28\n",
      "BsmtFinType2      29\n",
      "Electrical         1\n",
      "FireplaceQu      551\n",
      "GarageType        58\n",
      "GarageYrBlt       58\n",
      "GarageFinish      58\n",
      "GarageQual        58\n",
      "GarageCond        58\n",
      "PoolQC          1164\n",
      "Fence            954\n",
      "MiscFeature     1119\n",
      "dtype: int64\n"
     ]
    }
   ],
   "source": [
    "# Columns with missing data\n",
    "\n",
    "col_missing_cnt = X_train.isnull().sum()    # count missing elements in each column\n",
    "col_with_missing = col_missing_cnt[col_missing_cnt > 0]    # columns with missing data\n",
    "# print(col_with_missing, col_with_missing.values)\n",
    "\n",
    "print(col_with_missing)\n",
    "#print(pd.DataFrame([col_with_missing.values, col_with_missing.values*100/X_full.SalePrice.notnull().sum()], index =['Count', 'Percent'] , \n",
    "#             columns= col_with_missing.index))\n",
    "\n",
    "\n"
   ]
  },
  {
   "cell_type": "code",
   "execution_count": 211,
   "metadata": {},
   "outputs": [
    {
     "name": "stdout",
     "output_type": "stream",
     "text": [
      "\n",
      "43 categorical variable \n",
      " Index(['MSZoning', 'Street', 'Alley', 'LotShape', 'LandContour', 'Utilities',\n",
      "       'LotConfig', 'LandSlope', 'Neighborhood', 'Condition1', 'Condition2',\n",
      "       'BldgType', 'HouseStyle', 'RoofStyle', 'RoofMatl', 'Exterior1st',\n",
      "       'Exterior2nd', 'MasVnrType', 'ExterQual', 'ExterCond', 'Foundation',\n",
      "       'BsmtQual', 'BsmtCond', 'BsmtExposure', 'BsmtFinType1', 'BsmtFinType2',\n",
      "       'Heating', 'HeatingQC', 'CentralAir', 'Electrical', 'KitchenQual',\n",
      "       'Functional', 'FireplaceQu', 'GarageType', 'GarageFinish', 'GarageQual',\n",
      "       'GarageCond', 'PavedDrive', 'PoolQC', 'Fence', 'MiscFeature',\n",
      "       'SaleType', 'SaleCondition'],\n",
      "      dtype='object')\n",
      "\n",
      "36 Numerical variable \n",
      " Index(['MSSubClass', 'LotFrontage', 'LotArea', 'OverallQual', 'OverallCond',\n",
      "       'YearBuilt', 'YearRemodAdd', 'MasVnrArea', 'BsmtFinSF1', 'BsmtFinSF2',\n",
      "       'BsmtUnfSF', 'TotalBsmtSF', '1stFlrSF', '2ndFlrSF', 'LowQualFinSF',\n",
      "       'GrLivArea', 'BsmtFullBath', 'BsmtHalfBath', 'FullBath', 'HalfBath',\n",
      "       'BedroomAbvGr', 'KitchenAbvGr', 'TotRmsAbvGrd', 'Fireplaces',\n",
      "       'GarageYrBlt', 'GarageCars', 'GarageArea', 'WoodDeckSF', 'OpenPorchSF',\n",
      "       'EnclosedPorch', '3SsnPorch', 'ScreenPorch', 'PoolArea', 'MiscVal',\n",
      "       'MoSold', 'YrSold'],\n",
      "      dtype='object')\n"
     ]
    }
   ],
   "source": [
    "# Categorical and numerical columns\n",
    "\n",
    "import numpy as np\n",
    "\n",
    "is_categorical_var = X_train.dtypes=='object'\n",
    "\n",
    "categorical_var = is_categorical_var[is_categorical_var].index\n",
    "numerical_var = is_categorical_var[~np.array(is_categorical_var)].index\n",
    "\n",
    "print('\\n{} categorical variable \\n'.format(len(categorical_var)), categorical_var)\n",
    "print('\\n{} Numerical variable \\n'.format(len(numerical_var)), numerical_var)\n",
    "# print(len(categorical_var)+len(numerical_var))   # check that they sum up correct\n"
   ]
  },
  {
   "cell_type": "code",
   "execution_count": 212,
   "metadata": {},
   "outputs": [
    {
     "name": "stdout",
     "output_type": "stream",
     "text": [
      "\n",
      "16 categorical features with missing data :\n",
      " [('Alley', '75.14%'), ('MasVnrType', '0.41%'), ('BsmtQual', '1.92%'), ('BsmtCond', '1.92%'), ('BsmtExposure', '1.92%'), ('BsmtFinType1', '1.92%'), ('BsmtFinType2', '1.99%'), ('Electrical', '0.07%'), ('FireplaceQu', '37.74%'), ('GarageType', '3.97%'), ('GarageFinish', '3.97%'), ('GarageQual', '3.97%'), ('GarageCond', '3.97%'), ('PoolQC', '79.73%'), ('Fence', '65.34%'), ('MiscFeature', '76.64%')]\n",
      "\n",
      "3 numerical features with missing data :\n",
      " [('LotFrontage', '14.52%'), ('MasVnrArea', '0.41%'), ('GarageYrBlt', '3.97%')]\n"
     ]
    }
   ],
   "source": [
    "# Columns with missing data in categorical and numerical features \n",
    "\n",
    "cat_col_with_missing = [name for name in col_with_missing.index if name in categorical_var]\n",
    "cat_percent_missing = [(i, str(round(col_with_missing[i]*100/len(X_full), 2))+'%') for i in cat_col_with_missing]\n",
    "print(\"\\n{} categorical features with missing data :\\n\".format(len(cat_col_with_missing)), cat_percent_missing)\n",
    "\n",
    "num_col_with_missing = [name for name in col_with_missing.index if name in numerical_var]\n",
    "num_percent_missing = [(i, str(round(col_with_missing[i]*100/len(X_full), 2))+'%') for i in num_col_with_missing]\n",
    "print(\"\\n{} numerical features with missing data :\\n\".format(len(num_col_with_missing)), num_percent_missing)\n"
   ]
  },
  {
   "cell_type": "markdown",
   "metadata": {},
   "source": [
    "# Selecting features\n",
    "\n",
    "From here, we start fitting the model with diferent features combination, including encoded features. Then evaluate and compare performances of using different features set. The function below is used for quick evaluation. \n"
   ]
  },
  {
   "cell_type": "code",
   "execution_count": 190,
   "metadata": {},
   "outputs": [],
   "source": [
    "from sklearn.ensemble import RandomForestRegressor\n",
    "from sklearn.metrics import mean_absolute_error\n",
    "\n",
    "# Function for comparing different approaches\n",
    "def score_dataset(X_train, X_valid, y_train, y_valid):\n",
    "    model = RandomForestRegressor(n_estimators=100, random_state=0)\n",
    "    model.fit(X_train, y_train)\n",
    "    preds = model.predict(X_valid)\n",
    "    return mean_absolute_error(y_valid, preds)"
   ]
  },
  {
   "cell_type": "code",
   "execution_count": 9,
   "metadata": {},
   "outputs": [
    {
     "data": {
      "text/plain": [
       "17837.82570776256"
      ]
     },
     "execution_count": 9,
     "metadata": {},
     "output_type": "execute_result"
    }
   ],
   "source": [
    "# Build an initial model with numerical features only and drop columns with missing data\n",
    "\n",
    "from sklearn.model_selection import train_test_split\n",
    "\n",
    "X_train, X_valid, y_train, y_valid = train_test_split(X_full, y, train_size=0.8, test_size=0.2, random_state=0)\n",
    "\n",
    "X1_train = X_train.drop(num_col_with_missing, axis=1)  # remove columns with missing data\n",
    "X1_train = X1_train.select_dtypes(exclude='object')     # remove categorical variables\n",
    "\n",
    "\n",
    "X1_valid = X_valid.select_dtypes(exclude='object')     # remove categorical variables\n",
    "X1_valid = X1_valid.drop(num_col_with_missing, axis=1)\n",
    "\n",
    "# X1_test = X_test_full.select_dtypes(exclude='object')\n",
    "# X1_test.drop(num_col_with_missing, axis=1, inplace=True)\n",
    "\n",
    "score_dataset(X1_train, X1_valid, y_train, y_valid)\n"
   ]
  },
  {
   "cell_type": "markdown",
   "metadata": {},
   "source": [
    "*After exploring the features in the training set, we decided that the following features are not important, thus dropping them.*"
   ]
  },
  {
   "cell_type": "code",
   "execution_count": 10,
   "metadata": {},
   "outputs": [
    {
     "data": {
      "text/plain": [
       "17011.173255707763"
      ]
     },
     "execution_count": 10,
     "metadata": {},
     "output_type": "execute_result"
    }
   ],
   "source": [
    "# Drop more numerical variables (by intuition what are not important and trial and error)\n",
    "\n",
    "X2_train = X1_train.drop(['MoSold','MiscVal', 'GarageArea', 'OpenPorchSF', 'YrSold', 'MSSubClass'], axis=1)\n",
    "X2_valid = X1_valid.drop(['MoSold','MiscVal', 'GarageArea', 'OpenPorchSF', 'YrSold', 'MSSubClass'], axis=1)\n",
    "\n",
    "score_dataset(X2_train, X2_valid, y_train, y_valid)"
   ]
  },
  {
   "cell_type": "code",
   "execution_count": 12,
   "metadata": {},
   "outputs": [
    {
     "data": {
      "text/plain": [
       "Index(['LotArea', 'OverallQual', 'OverallCond', 'YearBuilt', 'YearRemodAdd',\n",
       "       'BsmtFinSF1', 'BsmtFinSF2', 'BsmtUnfSF', 'TotalBsmtSF', '1stFlrSF',\n",
       "       '2ndFlrSF', 'LowQualFinSF', 'GrLivArea', 'BsmtFullBath', 'BsmtHalfBath',\n",
       "       'FullBath', 'HalfBath', 'BedroomAbvGr', 'KitchenAbvGr', 'TotRmsAbvGrd',\n",
       "       'Fireplaces', 'GarageCars', 'WoodDeckSF', 'EnclosedPorch', '3SsnPorch',\n",
       "       'ScreenPorch', 'PoolArea'],\n",
       "      dtype='object')"
      ]
     },
     "execution_count": 12,
     "metadata": {},
     "output_type": "execute_result"
    }
   ],
   "source": [
    "X2_train.columns"
   ]
  },
  {
   "cell_type": "markdown",
   "metadata": {},
   "source": [
    "# Process categorical columns\n",
    "\n",
    "Next, we will include categorical variables. We will try different approaches for encoding, i.e. label, target and catboost encoding. "
   ]
  },
  {
   "cell_type": "code",
   "execution_count": 13,
   "metadata": {},
   "outputs": [
    {
     "data": {
      "text/plain": [
       "16935.78301369863"
      ]
     },
     "execution_count": 13,
     "metadata": {},
     "output_type": "execute_result"
    }
   ],
   "source": [
    "# Label encode categorical variables and drop columns with missing values\n",
    "\n",
    "from sklearn.preprocessing  import LabelEncoder\n",
    "\n",
    "Xt_cat_no_missing = X_train[categorical_var].drop(cat_col_with_missing, axis=1)\n",
    "Xv_cat_no_missing = X_valid[categorical_var].drop(cat_col_with_missing, axis=1)\n",
    "\n",
    "label_encoder = LabelEncoder()\n",
    "\n",
    "encoded_train = Xt_cat_no_missing.apply(label_encoder.fit_transform)\n",
    "encoded_valid = Xv_cat_no_missing.apply(label_encoder.fit_transform)\n",
    "\n",
    "# cols_to_drop = num_col_with_missing + cat_col_with_missing + ['MoSold','MiscVal', 'GarageArea', 'OpenPorchSF', 'YrSold', 'MSSubClass'] \n",
    "# X3_train = X_train.drop(cols_to_drop, axis=1)\n",
    "# X3_valid = X_train.drop(cols_to_drop, axis=1)\n",
    "\n",
    "X3_train = X2_train.join(encoded_train)\n",
    "X3_valid = X2_valid.join(encoded_valid)\n",
    "\n",
    "\n",
    "score_dataset(X3_train, X3_valid, y_train, y_valid)\n"
   ]
  },
  {
   "cell_type": "code",
   "execution_count": 185,
   "metadata": {},
   "outputs": [
    {
     "data": {
      "text/plain": [
       "17413.275856164386"
      ]
     },
     "execution_count": 185,
     "metadata": {},
     "output_type": "execute_result"
    }
   ],
   "source": [
    "# Target encode categorical variables and drop columns with missing values\n",
    "\n",
    "import category_encoders as ce\n",
    "\n",
    "target_encoder = ce.TargetEncoder()              # Create target encoder\n",
    "target_encoder.fit(Xt_cat_no_missing, y_train)   # fit training data and target to encoder\n",
    "\n",
    "tEncoded_train = target_encoder.transform(Xt_cat_no_missing)  # encode training cat vars\n",
    "tEncoded_valid = target_encoder.transform(Xv_cat_no_missing)  # encode validation cat vars\n",
    "\n",
    "X4_train = X2_train.join(tEncoded_train)\n",
    "X4_valid = X2_valid.join(tEncoded_valid)\n",
    "\n",
    "score_dataset(X4_train, X4_valid, y_train, y_valid)\n"
   ]
  },
  {
   "cell_type": "code",
   "execution_count": 186,
   "metadata": {},
   "outputs": [
    {
     "data": {
      "text/plain": [
       "17431.55993150685"
      ]
     },
     "execution_count": 186,
     "metadata": {},
     "output_type": "execute_result"
    }
   ],
   "source": [
    "# Add categorical variables - drop columns with missing data and CatBoost encode the variables\n",
    "\n",
    "cb_encoder = ce.CatBoostEncoder()              # Create CatBoost encoder\n",
    "cb_encoder.fit(Xt_cat_no_missing, y_train)     # fit training data and target to encoder\n",
    "\n",
    "cbEncoded_train = cb_encoder.transform(Xt_cat_no_missing)  # encode training cat vars\n",
    "cbEncoded_valid = cb_encoder.transform(Xv_cat_no_missing)  # encode validation cat vars\n",
    "\n",
    "X5_train = X2_train.join(cbEncoded_train)\n",
    "X5_valid = X2_valid.join(cbEncoded_valid)\n",
    "\n",
    "score_dataset(X5_train, X5_valid, y_train, y_valid)\n"
   ]
  },
  {
   "cell_type": "markdown",
   "metadata": {},
   "source": [
    "*Comparing the scores of using different encoding, label encoding gives the best result. We will use the label encoded categorical features from here.*\n",
    "\n",
    "*Also after some data exploration, by intuition, we drop some categorical features listed in the following cell.*   \n",
    "\n"
   ]
  },
  {
   "cell_type": "code",
   "execution_count": 15,
   "metadata": {},
   "outputs": [
    {
     "data": {
      "text/plain": [
       "16605.07885844749"
      ]
     },
     "execution_count": 15,
     "metadata": {},
     "output_type": "execute_result"
    }
   ],
   "source": [
    "# Drop some categorical variables from label encoded set\n",
    "\n",
    "cols_to_drop = ['Street', 'LandContour', 'LandSlope', 'LotShape', 'LotConfig', 'Exterior2nd']\n",
    "\n",
    "X6_train = X3_train.drop(cols_to_drop, axis=1)\n",
    "X6_valid = X3_valid.drop(cols_to_drop, axis=1)\n",
    "\n",
    "score_dataset(X6_train, X6_valid, y_train, y_valid)"
   ]
  },
  {
   "cell_type": "markdown",
   "metadata": {},
   "source": [
    "### Create new features\n",
    "\n",
    "Here we try creating 2 new features, house age and number of years since renovation. "
   ]
  },
  {
   "cell_type": "code",
   "execution_count": 87,
   "metadata": {},
   "outputs": [],
   "source": [
    "# Create new features - House age and number of years after renovation \n",
    "\n",
    "newFeatures =pd.concat([X1_train['YrSold']-X1_train['YearBuilt'], X1_train['YrSold']-X1_train['YearRemodAdd']], \n",
    "                       axis=1)\n",
    "\n",
    "newFeatures_v =pd.concat([X1_valid['YrSold']-X1_valid['YearBuilt'], X1_valid['YrSold']-X1_valid['YearRemodAdd']], \n",
    "                       axis=1)\n",
    "\n",
    "newFeatures.columns = ['nf_hseAge', 'nf_renoAge']\n",
    "newFeatures_v.columns = ['nf_hseAge', 'nf_renoAge']\n"
   ]
  },
  {
   "cell_type": "code",
   "execution_count": 92,
   "metadata": {},
   "outputs": [
    {
     "data": {
      "text/plain": [
       "17254.627996575342"
      ]
     },
     "execution_count": 92,
     "metadata": {},
     "output_type": "execute_result"
    }
   ],
   "source": [
    "X7_train = pd.concat([X6_train.drop(['YearBuilt', 'YearRemodAdd'], axis=1), newFeatures], axis=1)\n",
    "X7_valid = pd.concat([X6_valid.drop(['YearBuilt', 'YearRemodAdd'], axis=1), newFeatures_v], axis=1)\n",
    "\n",
    "score_dataset(X7_train, X7_valid, y_train, y_valid)"
   ]
  },
  {
   "cell_type": "markdown",
   "metadata": {},
   "source": [
    "# Selected feature set for further processing\n",
    "\n",
    "From above, creating the 2 new features did not give better score. Thus, we select the feature set in X6_train for further processing. \n",
    "\n",
    "Next, we will perform hyperparamter tuning.\n"
   ]
  },
  {
   "cell_type": "markdown",
   "metadata": {},
   "source": [
    "# Hyperparameter tuning with cross-validation\n"
   ]
  },
  {
   "cell_type": "code",
   "execution_count": 93,
   "metadata": {},
   "outputs": [
    {
     "name": "stdout",
     "output_type": "stream",
     "text": [
      "{'bootstrap': [True, False],\n",
      " 'max_depth': [10, 20, 30, 40, 50, 60, 70, 80, 90, 100, 110, None],\n",
      " 'max_features': ['auto', 'sqrt'],\n",
      " 'min_samples_leaf': [1, 2, 4],\n",
      " 'min_samples_split': [2, 5, 10],\n",
      " 'n_estimators': [100, 311, 522, 733, 944, 1155, 1366, 1577, 1788, 2000]}\n"
     ]
    }
   ],
   "source": [
    "# Setup random grids for hyperparameters\n",
    "\n",
    "from sklearn.model_selection import RandomizedSearchCV\n",
    "\n",
    "# Number of trees in random forest\n",
    "n_estimators = [int(x) for x in np.linspace(start = 100, stop = 2000, num = 10)]\n",
    "# Number of features to consider at every split\n",
    "max_features = ['auto', 'sqrt']\n",
    "# Maximum number of levels in tree\n",
    "max_depth = [int(x) for x in np.linspace(10, 110, num = 11)]\n",
    "max_depth.append(None)\n",
    "# Minimum number of samples required to split a node\n",
    "min_samples_split = [2, 5, 10]\n",
    "# Minimum number of samples required at each leaf node\n",
    "min_samples_leaf = [1, 2, 4]\n",
    "# Method of selecting samples for training each tree\n",
    "bootstrap = [True, False]\n",
    "\n",
    "# Create the random grid\n",
    "random_grid = {'n_estimators': n_estimators,\n",
    "               'max_features': max_features,\n",
    "               'max_depth': max_depth,\n",
    "               'min_samples_split': min_samples_split,\n",
    "               'min_samples_leaf': min_samples_leaf,\n",
    "               'bootstrap': bootstrap}\n",
    "\n",
    "pprint(random_grid)"
   ]
  },
  {
   "cell_type": "code",
   "execution_count": 94,
   "metadata": {},
   "outputs": [
    {
     "name": "stdout",
     "output_type": "stream",
     "text": [
      "Fitting 3 folds for each of 100 candidates, totalling 300 fits\n"
     ]
    },
    {
     "name": "stderr",
     "output_type": "stream",
     "text": [
      "[Parallel(n_jobs=-1)]: Using backend LokyBackend with 12 concurrent workers.\n",
      "[Parallel(n_jobs=-1)]: Done  17 tasks      | elapsed:   27.7s\n",
      "[Parallel(n_jobs=-1)]: Done 138 tasks      | elapsed:  2.0min\n",
      "[Parallel(n_jobs=-1)]: Done 300 out of 300 | elapsed:  3.8min finished\n"
     ]
    },
    {
     "data": {
      "text/plain": [
       "RandomizedSearchCV(cv=3, error_score='raise-deprecating',\n",
       "                   estimator=RandomForestRegressor(bootstrap=True,\n",
       "                                                   criterion='mse',\n",
       "                                                   max_depth=None,\n",
       "                                                   max_features='auto',\n",
       "                                                   max_leaf_nodes=None,\n",
       "                                                   min_impurity_decrease=0.0,\n",
       "                                                   min_impurity_split=None,\n",
       "                                                   min_samples_leaf=1,\n",
       "                                                   min_samples_split=2,\n",
       "                                                   min_weight_fraction_leaf=0.0,\n",
       "                                                   n_estimators='warn',\n",
       "                                                   n_jobs=None, oob_score=False,\n",
       "                                                   random_sta...\n",
       "                   param_distributions={'bootstrap': [True, False],\n",
       "                                        'max_depth': [10, 20, 30, 40, 50, 60,\n",
       "                                                      70, 80, 90, 100, 110,\n",
       "                                                      None],\n",
       "                                        'max_features': ['auto', 'sqrt'],\n",
       "                                        'min_samples_leaf': [1, 2, 4],\n",
       "                                        'min_samples_split': [2, 5, 10],\n",
       "                                        'n_estimators': [100, 311, 522, 733,\n",
       "                                                         944, 1155, 1366, 1577,\n",
       "                                                         1788, 2000]},\n",
       "                   pre_dispatch='2*n_jobs', random_state=7, refit=True,\n",
       "                   return_train_score=True, scoring='neg_mean_absolute_error',\n",
       "                   verbose=2)"
      ]
     },
     "execution_count": 94,
     "metadata": {},
     "output_type": "execute_result"
    }
   ],
   "source": [
    "# Use the random grid to search for best hyperparameters\n",
    "# First create the base model to tune\n",
    "rf = RandomForestRegressor(random_state = 7)\n",
    "# Random search of parameters, using 3 fold cross validation, \n",
    "# search across 100 different combinations, and use all available cores\n",
    "rf_random = RandomizedSearchCV(estimator=rf, param_distributions=random_grid,\n",
    "                              n_iter = 100, scoring='neg_mean_absolute_error', \n",
    "                              cv = 3, verbose=2, random_state=7, n_jobs=-1,\n",
    "                              return_train_score=True)\n",
    "\n",
    "# Fit the random search model\n",
    "rf_random.fit(X6_train, y_train)"
   ]
  },
  {
   "cell_type": "code",
   "execution_count": 104,
   "metadata": {},
   "outputs": [
    {
     "data": {
      "text/plain": [
       "{'n_estimators': 1366,\n",
       " 'min_samples_split': 2,\n",
       " 'min_samples_leaf': 1,\n",
       " 'max_features': 'sqrt',\n",
       " 'max_depth': 90,\n",
       " 'bootstrap': False}"
      ]
     },
     "execution_count": 104,
     "metadata": {},
     "output_type": "execute_result"
    }
   ],
   "source": [
    "# Best hyperparameters\n",
    "\n",
    "rf_random.best_params_"
   ]
  },
  {
   "cell_type": "code",
   "execution_count": 105,
   "metadata": {},
   "outputs": [
    {
     "data": {
      "text/plain": [
       "-16238.598057772919"
      ]
     },
     "execution_count": 105,
     "metadata": {},
     "output_type": "execute_result"
    }
   ],
   "source": [
    "# Best score\n",
    "\n",
    "rf_random.best_score_"
   ]
  },
  {
   "cell_type": "markdown",
   "metadata": {},
   "source": [
    "# Fitting the best estimator\n",
    "\n",
    "From the hyperparameter search, we managed to improve the score further by examining the *best_score_* attirbute. We fit the data to the obtained best estimator in the following."
   ]
  },
  {
   "cell_type": "code",
   "execution_count": 111,
   "metadata": {},
   "outputs": [
    {
     "data": {
      "text/plain": [
       "16485.262150096605"
      ]
     },
     "execution_count": 111,
     "metadata": {},
     "output_type": "execute_result"
    }
   ],
   "source": [
    "# Use the best_estimator_, which has the list of best hyperparameters\n",
    "\n",
    "rf_random.best_estimator_\n",
    "\n",
    "model = rf_random.best_estimator_\n",
    "model.fit(X6_train, y_train)\n",
    "preds = model.predict(X6_valid)\n",
    "mean_absolute_error(y_valid, preds)"
   ]
  },
  {
   "cell_type": "markdown",
   "metadata": {},
   "source": [
    "*With the tuned model, the validation score improves further.*"
   ]
  },
  {
   "cell_type": "markdown",
   "metadata": {},
   "source": [
    "# Feature importance\n",
    "\n",
    "In this part, by using the *feature_importance* attribute of the model, select the top most important features that sum up to 95% importance."
   ]
  },
  {
   "cell_type": "code",
   "execution_count": 169,
   "metadata": {},
   "outputs": [],
   "source": [
    "# Get numerical feature importances\n",
    "importances = list(model.feature_importances_)\n",
    "\n",
    "# List of tuples with variable and importance\n",
    "feature_importances = [(feature, round(importance, 4)) for feature, importance in zip(list(X6_train.columns), importances)]\n",
    "\n",
    "# Sort the feature importances by most important first\n",
    "feature_importances = sorted(feature_importances, key = lambda x: x[1], reverse = True)\n",
    "\n",
    "# Print out the feature and importances \n",
    "# [print('Variable: {:20} Importance: {}'.format(*pair)) for pair in feature_importances];"
   ]
  },
  {
   "cell_type": "code",
   "execution_count": 128,
   "metadata": {},
   "outputs": [
    {
     "data": {
      "image/png": "[encoded data removed]",
      "text/plain": [
       "<Figure size 432x288 with 1 Axes>"
      ]
     },
     "metadata": {
      "needs_background": "light"
     },
     "output_type": "display_data"
    }
   ],
   "source": [
    "import matplotlib.pyplot as plt\n",
    "# list of x locations for plotting\n",
    "x_values = list(range(len(importances)))\n",
    "\n",
    "# Make a bar chart\n",
    "plt.bar(x_values, importances, orientation = 'vertical')\n",
    "\n",
    "# Tick labels for x axis\n",
    "plt.xticks(x_values, list(X6_train.columns), rotation='vertical')\n",
    "\n",
    "# Axis labels and title\n",
    "plt.ylabel('Importance'); plt.xlabel('Variable', fontsize=12); plt.title('Variable Importances');\n",
    "\n",
    "plt.tight_layout(rect=(0, 0, 1.8, 1.2))"
   ]
  },
  {
   "cell_type": "code",
   "execution_count": 182,
   "metadata": {},
   "outputs": [
    {
     "name": "stdout",
     "output_type": "stream",
     "text": [
      "Total importance of 27 most important features : 0.95\n"
     ]
    },
    {
     "data": {
      "text/plain": [
       "['OverallQual',\n",
       " 'GrLivArea',\n",
       " 'GarageCars',\n",
       " 'TotalBsmtSF',\n",
       " '1stFlrSF',\n",
       " 'ExterQual',\n",
       " 'YearBuilt',\n",
       " 'BsmtFinSF1',\n",
       " 'FullBath',\n",
       " 'KitchenQual',\n",
       " 'YearRemodAdd',\n",
       " '2ndFlrSF',\n",
       " 'LotArea',\n",
       " 'TotRmsAbvGrd',\n",
       " 'Fireplaces',\n",
       " 'Foundation',\n",
       " 'Neighborhood',\n",
       " 'BsmtUnfSF',\n",
       " 'WoodDeckSF',\n",
       " 'HeatingQC',\n",
       " 'BedroomAbvGr',\n",
       " 'HalfBath',\n",
       " 'OverallCond',\n",
       " 'MSZoning',\n",
       " 'SaleCondition',\n",
       " 'HouseStyle']"
      ]
     },
     "execution_count": 182,
     "metadata": {},
     "output_type": "execute_result"
    }
   ],
   "source": [
    "# Select the most important features that sum up to 0.95 importance.\n",
    "\n",
    "d = [imp for feature, imp in feature_importances[0:26]]\n",
    "print('Total importance of 27 most important features :', round(sum(d),2))\n",
    "\n",
    "# Collect the features in a list\n",
    "top27_imp_features = list([feature for feature, imp in feature_importances[0:26]])\n",
    "\n",
    "top27_imp_features"
   ]
  },
  {
   "cell_type": "markdown",
   "metadata": {},
   "source": [
    "*It takes 27 most important features to sum up to 95% importance. In the following we re-train the model with only these 27 features.* "
   ]
  },
  {
   "cell_type": "code",
   "execution_count": 183,
   "metadata": {},
   "outputs": [
    {
     "data": {
      "text/plain": [
       "16011.120790629577"
      ]
     },
     "execution_count": 183,
     "metadata": {},
     "output_type": "execute_result"
    }
   ],
   "source": [
    "# Fit the model again with these selected features\n",
    "\n",
    "X8_train = X6_train[top27_imp_features]\n",
    "X8_valid = X6_valid[top27_imp_features]\n",
    "\n",
    "model.fit(X8_train, y_train)\n",
    "preds = model.predict(X8_valid)\n",
    "mean_absolute_error(y_valid, preds)"
   ]
  },
  {
   "cell_type": "markdown",
   "metadata": {},
   "source": [
    "# Final model and features set\n",
    "\n",
    "We will use the tuned model and the 27 chosen features to fit the final model and predict the prices from the test data."
   ]
  },
  {
   "cell_type": "code",
   "execution_count": 228,
   "metadata": {},
   "outputs": [],
   "source": [
    "# Process test data the same steps as the chosen features set gone through\n",
    "#\n",
    "X1_test = X_test_full.select_dtypes(exclude='object')\n",
    "X1_test.drop(num_col_with_missing, axis=1, inplace=True)   # drop some numerical features\n",
    "\n",
    "X2_test = X1_test.drop(['MoSold','MiscVal', 'GarageArea', 'OpenPorchSF', 'YrSold', 'MSSubClass'], axis=1)\n",
    "\n",
    "# Note there are missing values in certain columns in test data and not in the same columns in training data\n",
    "Xtest_cat_no_missing = X_test_full[categorical_var].drop(cat_col_with_missing, axis=1)\n",
    "Xtest_cat_no_missing = Xtest_cat_no_missing.replace(np.nan, 'NaN')   # impute missing values in test data with 'NaN'\n",
    "\n",
    "labelEncoded_test = Xtest_cat_no_missing.apply(label_encoder.fit_transform)  # label encode test set\n",
    "X3_test = X2_test.join(labelEncoded_test)    # combine chosen numerical features and label encoded categorical features\n",
    "\n",
    "X6_test = X3_test.drop(cols_to_drop, axis=1)   # drop some categorical features\n",
    "\n",
    "X8_test = X6_test[top27_imp_features].replace(np.nan, -1)   # select only the most important 27 features\n",
    "# There are missing values in numerical columns in test data, impute with -1\n"
   ]
  },
  {
   "cell_type": "code",
   "execution_count": 229,
   "metadata": {},
   "outputs": [
    {
     "data": {
      "text/plain": [
       "OverallQual      0\n",
       "GrLivArea        0\n",
       "GarageCars       0\n",
       "TotalBsmtSF      0\n",
       "1stFlrSF         0\n",
       "ExterQual        0\n",
       "YearBuilt        0\n",
       "BsmtFinSF1       0\n",
       "FullBath         0\n",
       "KitchenQual      0\n",
       "YearRemodAdd     0\n",
       "2ndFlrSF         0\n",
       "LotArea          0\n",
       "TotRmsAbvGrd     0\n",
       "Fireplaces       0\n",
       "Foundation       0\n",
       "Neighborhood     0\n",
       "BsmtUnfSF        0\n",
       "WoodDeckSF       0\n",
       "HeatingQC        0\n",
       "BedroomAbvGr     0\n",
       "HalfBath         0\n",
       "OverallCond      0\n",
       "MSZoning         0\n",
       "SaleCondition    0\n",
       "HouseStyle       0\n",
       "dtype: int64"
      ]
     },
     "execution_count": 229,
     "metadata": {},
     "output_type": "execute_result"
    }
   ],
   "source": [
    "X8_test.isnull().sum()"
   ]
  },
  {
   "cell_type": "code",
   "execution_count": 230,
   "metadata": {},
   "outputs": [],
   "source": [
    "# Predict with final model\n",
    "finalModel = model.fit(X8_train, y_train)\n",
    "pred_test = finalModel.predict(X8_test) \n",
    "\n",
    "# Save test predictions to file\n",
    "output = pd.DataFrame({'Id': X8_test.index,\n",
    "                       'SalePrice': pred_test})\n",
    "output.to_csv('submission3.csv', index=False)"
   ]
  }
 ],
 "metadata": {
  "kernelspec": {
   "display_name": "Venv1",
   "language": "python",
   "name": "venv1"
  },
  "language_info": {
   "codemirror_mode": {
    "name": "ipython",
    "version": 3
   },
   "file_extension": ".py",
   "mimetype": "text/x-python",
   "name": "python",
   "nbconvert_exporter": "python",
   "pygments_lexer": "ipython3",
   "version": "3.7.3"
  }
 },
 "nbformat": 4,
 "nbformat_minor": 2
}
